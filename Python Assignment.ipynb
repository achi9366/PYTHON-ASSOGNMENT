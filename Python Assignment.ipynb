{
 "cells": [
  {
   "cell_type": "code",
   "execution_count": 4,
   "id": "1085aba1-776d-43bf-8d52-74f0248ef153",
   "metadata": {},
   "outputs": [
    {
     "name": "stdout",
     "output_type": "stream",
     "text": [
      "Sum: 13.700000000000001, Average: 4.566666666666667\n"
     ]
    }
   ],
   "source": [
    "#1.\tWrite a program in Python to find the addition & average of three float numbers.\n",
    "num1, num2, num3 = 3.5, 7.8, 2.4\n",
    "sum_numbers = num1 + num2 + num3\n",
    "average = sum_numbers / 3\n",
    "print(f'Sum: {sum_numbers}, Average: {average}')\n"
   ]
  },
  {
   "cell_type": "code",
   "execution_count": 5,
   "id": "d59142ae-368b-4db1-9d85-cd1841399782",
   "metadata": {},
   "outputs": [
    {
     "name": "stdout",
     "output_type": "stream",
     "text": [
      "The volume of the sphere is:  904.7786842338603\n"
     ]
    }
   ],
   "source": [
    " #2.\tWrite a program in Python to find the volume of a sphere with radius  6cm\n",
    "pi = 3.1415926535897931\n",
    "r = 6.0\n",
    "V = 4.0/3.0 * pi * r**3\n",
    "print('The volume of the sphere is: ', V)"
   ]
  },
  {
   "cell_type": "code",
   "execution_count": 6,
   "id": "9621e822-3009-43ab-8d33-9ff8c4e6561f",
   "metadata": {},
   "outputs": [
    {
     "name": "stdout",
     "output_type": "stream",
     "text": [
      "Area of circle is: 50.26548245743669\n"
     ]
    }
   ],
   "source": [
    "#3.\tWrite a program in Python to find the area of a circle\n",
    "import math\n",
    "def area(r):\n",
    "  area = math.pi* pow(r,2)\n",
    "  return print('Area of circle is:' ,area)\n",
    "area(4)"
   ]
  },
  {
   "cell_type": "code",
   "execution_count": 7,
   "id": "b2129827-2725-4b9a-baf9-9b4e2c1c10b9",
   "metadata": {},
   "outputs": [
    {
     "name": "stdout",
     "output_type": "stream",
     "text": [
      "The principal is 5\n",
      "The time period is 7\n",
      "The rate of interest is 7\n",
      "The Simple Interest is 2.45\n"
     ]
    },
    {
     "data": {
      "text/plain": [
       "2.45"
      ]
     },
     "execution_count": 7,
     "metadata": {},
     "output_type": "execute_result"
    }
   ],
   "source": [
    " #4.Write a program in Python to compute simple Interest.\n",
    "def simple_interest(p,t,r):\n",
    "    print('The principal is', p)\n",
    "    print('The time period is', t)\n",
    "    print('The rate of interest is',r)\n",
    "    si = (p * t * r)/100\n",
    "    print('The Simple Interest is', si)\n",
    "    return si\n",
    "simple_interest(5, 7, 7)"
   ]
  },
  {
   "cell_type": "code",
   "execution_count": 8,
   "id": "10508e1d-3122-459a-9553-b15dce6c82cc",
   "metadata": {},
   "outputs": [
    {
     "name": "stdout",
     "output_type": "stream",
     "text": [
      "Before swapping: \n",
      "Value of x :  10  and y :  15\n",
      "After swapping: \n",
      "Value of x :  15  and y :  10\n"
     ]
    }
   ],
   "source": [
    "#5.\tWrite a program in Python to swap two numbers without using third variable\n",
    "x = 10\n",
    "y = 15\n",
    "print (\"Before swapping: \")\n",
    "print(\"Value of x : \", x, \" and y : \", y)\n",
    "x, y = y, x\n",
    "print (\"After swapping: \")\n",
    "print(\"Value of x : \", x, \" and y : \", y)"
   ]
  },
  {
   "cell_type": "code",
   "execution_count": 9,
   "id": "e99d44c8-30d1-4b67-bf3b-93e4ff1f0734",
   "metadata": {},
   "outputs": [
    {
     "name": "stdout",
     "output_type": "stream",
     "text": [
      "Enter temperature in Celsius:  99\n"
     ]
    },
    {
     "name": "stdout",
     "output_type": "stream",
     "text": [
      "99.0°C is equal to 210.2°F\n"
     ]
    }
   ],
   "source": [
    "#6.\tWrite a program in Python to convert any temperature from Celcius to Fahrenheit. \n",
    "def celsius_to_fahrenheit(celsius):\n",
    "    fahrenheit = (celsius * 9/5) + 32\n",
    "    return fahrenheit\n",
    "celsius = float(input(\"Enter temperature in Celsius: \"))\n",
    "fahrenheit = celsius_to_fahrenheit(celsius)\n",
    "print(f\"{celsius}°C is equal to {fahrenheit}°F\")"
   ]
  },
  {
   "cell_type": "code",
   "execution_count": 14,
   "id": "6ac7a59d-131d-406a-8c56-a12b593e9219",
   "metadata": {},
   "outputs": [
    {
     "name": "stdout",
     "output_type": "stream",
     "text": [
      "Enter the Number of Days: \n"
     ]
    },
    {
     "name": "stdout",
     "output_type": "stream",
     "text": [
      " 256\n"
     ]
    },
    {
     "name": "stdout",
     "output_type": "stream",
     "text": [
      "Total Number of Year(s): \n",
      "0\n",
      "Total Number of Week(s):\n",
      "36\n",
      "Total Number of Day(s):\n",
      "4\n"
     ]
    }
   ],
   "source": [
    "#7.\tWrite a program in Python to convert a given number of days into days, month, year and week.\n",
    "print(\"Enter the Number of Days: \")\n",
    "num = int(input())\n",
    "\n",
    "year = int(num/365)\n",
    "week = int((num%365)/7)\n",
    "days = int((num%365)%7)\n",
    "\n",
    "print(\"Total Number of Year(s): \")\n",
    "print(year)\n",
    "print(\"Total Number of Week(s):\")\n",
    "print(week)\n",
    "print(\"Total Number of Day(s):\")\n",
    "print(days)"
   ]
  },
  {
   "cell_type": "code",
   "execution_count": 16,
   "id": "74555055-91a1-4b22-ae27-0e8a780ddfc6",
   "metadata": {},
   "outputs": [
    {
     "name": "stdout",
     "output_type": "stream",
     "text": [
      "Enter the first mass:  60\n",
      "Enter the second mass:  58\n",
      "Enter the distance between the centres of the masses:  5\n"
     ]
    },
    {
     "name": "stdout",
     "output_type": "stream",
     "text": [
      "Hence, the gravitational force is:  0.0 N\n"
     ]
    }
   ],
   "source": [
    "#8.\tWrite a Python Program to find the gravitational force acting between two objects.\n",
    "#[G=N*(m1*m2)/d^2]\n",
    "m1=float(input(\"Enter the first mass: \"))\n",
    "m2=float(input(\"Enter the second mass: \"))\n",
    "d=float(input(\"Enter the distance between the centres of the masses: \"))\n",
    "G=6.673*(10**-11)\n",
    "f=(G*m1*m2)/(d**2)\n",
    "print(\"Hence, the gravitational force is: \",round(f,2),\"N\")"
   ]
  },
  {
   "cell_type": "code",
   "execution_count": 17,
   "id": "ff9fc2ba-cece-4d41-bb92-1a032b0d96bc",
   "metadata": {},
   "outputs": [
    {
     "name": "stdout",
     "output_type": "stream",
     "text": [
      "Enter a number:  55\n"
     ]
    },
    {
     "name": "stdout",
     "output_type": "stream",
     "text": [
      "55 is Odd\n"
     ]
    }
   ],
   "source": [
    "#9.\tWrite a program in Python to find given no is Even or Odd.\n",
    "num = int(input(\"Enter a number: \"))\n",
    "if (num % 2) == 0:\n",
    "   print(\"{0} is Even\".format(num))\n",
    "else:\n",
    "   print(\"{0} is Odd\".format(num))"
   ]
  },
  {
   "cell_type": "code",
   "execution_count": 18,
   "id": "1d0da59f-a028-4d9e-96dd-7d972287f3c9",
   "metadata": {},
   "outputs": [
    {
     "name": "stdout",
     "output_type": "stream",
     "text": [
      "Enter a number :  25\n"
     ]
    },
    {
     "name": "stdout",
     "output_type": "stream",
     "text": [
      "20\n"
     ]
    }
   ],
   "source": [
    "#10.\tTake input from user if it is greater than 15 print two times of difference if it’s less than 15 print four times of difference.\n",
    "num = int(input(\"Enter a number : \"))\n",
    "\n",
    "if num > 15 :\n",
    "    print(2*(abs(num-15)))\n",
    "else:\n",
    "    print(4*(abs(num-15)))"
   ]
  },
  {
   "cell_type": "code",
   "execution_count": 19,
   "id": "d333132b-3632-451d-96d3-a878386369c1",
   "metadata": {},
   "outputs": [
    {
     "name": "stdout",
     "output_type": "stream",
     "text": [
      "The largest number is 14\n"
     ]
    }
   ],
   "source": [
    "#11.\tWrite a program in Python to find largest among three numbers.\n",
    "num1 = 10\n",
    "num2 = 14\n",
    "num3 = 12\n",
    "if (num1 >= num2) and (num1 >= num3):\n",
    "   largest = num1\n",
    "elif (num2 >= num1) and (num2 >= num3):\n",
    "   largest = num2\n",
    "else:\n",
    "   largest = num3\n",
    "\n",
    "print(\"The largest number is\", largest)"
   ]
  },
  {
   "cell_type": "code",
   "execution_count": 20,
   "id": "33badd64-a606-4821-8086-c6fc161ec08e",
   "metadata": {},
   "outputs": [
    {
     "name": "stdout",
     "output_type": "stream",
     "text": [
      "Scalene Triangle\n"
     ]
    }
   ],
   "source": [
    " #12.\tWrite a program in Python to check a triangle is equilateral,scalene or isosclees.\n",
    "def checkTriangle(x, y, z):\n",
    "\tif x == y == z:\n",
    "\t\tprint(\"Equilateral Triangle\")\n",
    "\telif x == y or y == z or z == x:\n",
    "\t\tprint(\"Isosceles Triangle\")\n",
    "\telse:\n",
    "\t\tprint(\"Scalene Triangle\")\n",
    "x = 8\n",
    "y = 7\n",
    "z = 9\n",
    "checkTriangle(x, y, z)"
   ]
  },
  {
   "cell_type": "code",
   "execution_count": 21,
   "id": "27cb540a-ddea-4770-98ab-ecc3be30ba2b",
   "metadata": {},
   "outputs": [
    {
     "name": "stdout",
     "output_type": "stream",
     "text": [
      "Enter year to be checked: 2002\n"
     ]
    },
    {
     "name": "stdout",
     "output_type": "stream",
     "text": [
      "The year isn't a leap year!\n"
     ]
    }
   ],
   "source": [
    "#13.\tWrite a program in Python to check a given year is leapyear or not.\n",
    "year=int(input(\"Enter year to be checked:\"))\n",
    "if(year%4==0 and year%100!=0 or year%400==0):\n",
    "    print(\"The year is a leap year!\")\n",
    "else:\n",
    "    print(\"The year isn't a leap year!\")"
   ]
  },
  {
   "cell_type": "code",
   "execution_count": 23,
   "id": "4f866a9c-7207-443b-a1a0-877ec0239b05",
   "metadata": {},
   "outputs": [
    {
     "name": "stdout",
     "output_type": "stream",
     "text": [
      "Enter marks of the first subject:  90\n",
      "Enter marks of the second subject:  95\n",
      "Enter marks of the third subject:  96\n",
      "Enter marks of the fourth subject:  97\n",
      "Enter marks of the fifth subject:  94\n"
     ]
    },
    {
     "name": "stdout",
     "output_type": "stream",
     "text": [
      "Grade: A\n"
     ]
    }
   ],
   "source": [
    "#14.\tTake marks of a student of four different subject find average depending on average find Grade(if marks >=75 i.e,’A’ or >=60 but <=75 i.e,’B’ or >=40 but <=60 i.e,’C’ or <=40 i.e,’D’).\n",
    "sub1=int(input(\"Enter marks of the first subject: \"))\n",
    "sub2=int(input(\"Enter marks of the second subject: \"))\n",
    "sub3=int(input(\"Enter marks of the third subject: \"))\n",
    "sub4=int(input(\"Enter marks of the fourth subject: \"))\n",
    "sub5=int(input(\"Enter marks of the fifth subject: \"))\n",
    "avg=(sub1+sub2+sub3+sub4+sub4)/5\n",
    "if(avg>=90):\n",
    "    print(\"Grade: A\")\n",
    "elif(avg>=80&avg<90):\n",
    "    print(\"Grade: B\")\n",
    "elif(avg>=70&avg<80):\n",
    "    print(\"Grade: C\")\n",
    "elif(avg>=60&avg<70):\n",
    "    print(\"Grade: D\")\n",
    "else:\n",
    "    print(\"Grade: F\")"
   ]
  },
  {
   "cell_type": "code",
   "execution_count": 24,
   "id": "8be20d12-5f2d-4d5e-b8da-c8d7453de66b",
   "metadata": {},
   "outputs": [
    {
     "name": "stdout",
     "output_type": "stream",
     "text": [
      "Select operation.\n",
      "1.Add\n",
      "2.Subtract\n",
      "3.Multiply\n",
      "4.Divide\n"
     ]
    },
    {
     "name": "stdout",
     "output_type": "stream",
     "text": [
      "Enter choice(1/2/3/4 2\n",
      "Enter first number:  5\n",
      "Enter second number:  3\n"
     ]
    },
    {
     "name": "stdout",
     "output_type": "stream",
     "text": [
      "5.0 - 3.0 = 2.0\n"
     ]
    },
    {
     "name": "stdout",
     "output_type": "stream",
     "text": [
      "Let's do next calculation? (yes/no):  no\n"
     ]
    }
   ],
   "source": [
    "#15.\tWrite a program in Python to implement a simple calculator\n",
    "def add(x, y):\n",
    "    return x + y\n",
    "def subtract(x, y):\n",
    "    return x - y\n",
    "def multiply(x, y):\n",
    "    return x * y\n",
    "def divide(x, y):\n",
    "    return x / y\n",
    "print(\"Select operation.\")\n",
    "print(\"1.Add\")\n",
    "print(\"2.Subtract\")\n",
    "print(\"3.Multiply\")\n",
    "print(\"4.Divide\")\n",
    "\n",
    "while True:\n",
    "    choice = input(\"Enter choice(1/2/3/4\") \n",
    "    if choice in ('1', '2', '3', '4'):\n",
    "        try:\n",
    "            num1 = float(input(\"Enter first number: \"))\n",
    "            num2 = float(input(\"Enter second number: \"))\n",
    "        except ValueError:\n",
    "            print(\"Invalid input. Please enter a number.\")\n",
    "            continue\n",
    "\n",
    "        if choice == '1':\n",
    "            print(num1, \"+\", num2, \"=\", add(num1, num2))\n",
    "\n",
    "        elif choice == '2':\n",
    "            print(num1, \"-\", num2, \"=\", subtract(num1, num2))\n",
    "\n",
    "        elif choice == '3':\n",
    "            print(num1, \"*\", num2, \"=\", multiply(num1, num2))\n",
    "\n",
    "        elif choice == '4':\n",
    "            print(num1, \"/\", num2, \"=\", divide(num1, num2))\n",
    "        next_calculation = input(\"Let's do next calculation? (yes/no): \")\n",
    "        if next_calculation == \"no\":\n",
    "          break\n",
    "    else:\n",
    "        print(\"Invalid Input\")"
   ]
  },
  {
   "cell_type": "code",
   "execution_count": 25,
   "id": "d3b25020-53c0-4d10-afce-f11f188dfccd",
   "metadata": {},
   "outputs": [
    {
     "name": "stdout",
     "output_type": "stream",
     "text": [
      "Equation: ax^2 + bx + c \n"
     ]
    },
    {
     "name": "stdout",
     "output_type": "stream",
     "text": [
      "Enter a:  2\n",
      "Enter b:  5\n",
      "Enter c:  3\n"
     ]
    },
    {
     "name": "stdout",
     "output_type": "stream",
     "text": [
      "The first root:  -4.0\n",
      "The second root:  -6.0\n"
     ]
    }
   ],
   "source": [
    "#16.\tWrite a program in Python to find the roots of Quadratic equation.\n",
    "print(\"Equation: ax^2 + bx + c \")\n",
    "a=int(input(\"Enter a: \"))\n",
    "b=int(input(\"Enter b: \"))\n",
    "c=int(input(\"Enter c: \"))\n",
    "d=b**2-4*a*c\n",
    "d1=d**0.5\n",
    "if(d<0):\n",
    "    print(\"The roots are imaginary. \")\n",
    "else:\n",
    "    r1=(-b+d1)/2*a\n",
    "    r2=(-b-d1)/2*a\n",
    "    print(\"The first root: \",round(r1,2))\n",
    "    print(\"The second root: \",round(r2,2))"
   ]
  },
  {
   "cell_type": "code",
   "execution_count": 26,
   "id": "cb7f8b01-b4e0-4bdb-bcb4-b3107dddb74d",
   "metadata": {},
   "outputs": [
    {
     "name": "stdout",
     "output_type": "stream",
     "text": [
      "Enter the value of n:  2\n"
     ]
    },
    {
     "name": "stdout",
     "output_type": "stream",
     "text": [
      "1\n",
      "2\n"
     ]
    }
   ],
   "source": [
    "#17.\tWrite a program in Python to print 1 to n.\n",
    "def print_numbers(n):\n",
    "    for i in range(1, n + 1):\n",
    "        print(i)\n",
    "n = int(input(\"Enter the value of n: \"))\n",
    "print_numbers(n)"
   ]
  },
  {
   "cell_type": "code",
   "execution_count": 27,
   "id": "9bf2f5c0-eedb-461a-bace-5f339970c09b",
   "metadata": {},
   "outputs": [
    {
     "name": "stdout",
     "output_type": "stream",
     "text": [
      "The sum is 210\n"
     ]
    }
   ],
   "source": [
    "#18.\tWrite a program in Python to print sum of natural number.\n",
    "num = 20\n",
    "if num < 0:\n",
    "   print(\"Enter a positive number\")\n",
    "else:\n",
    "   sum = 0\n",
    "   # use while loop to iterate until zero\n",
    "   while(num > 0):\n",
    "       sum += num\n",
    "       num -= 1\n",
    "   print(\"The sum is\", sum)"
   ]
  },
  {
   "cell_type": "code",
   "execution_count": 28,
   "id": "78dd0ad7-3485-464d-a6d2-79c452777a2e",
   "metadata": {},
   "outputs": [
    {
     "name": "stdout",
     "output_type": "stream",
     "text": [
      "15\n"
     ]
    }
   ],
   "source": [
    "#19.\tWrite a program in Python to print Sum of Digit.\n",
    "def getSum(n): \n",
    "   \n",
    "    sum = 0\n",
    "    for digit in str(n):  \n",
    "      sum += int(digit)       \n",
    "    return sum\n",
    "  \n",
    "n = 12345\n",
    "print(getSum(n))"
   ]
  },
  {
   "cell_type": "code",
   "execution_count": 29,
   "id": "a49f89b6-0a5f-4f3e-aaa9-af49801c6ee5",
   "metadata": {},
   "outputs": [
    {
     "name": "stdout",
     "output_type": "stream",
     "text": [
      "The factors of 320 are:\n",
      "1\n",
      "2\n",
      "4\n",
      "5\n",
      "8\n",
      "10\n",
      "16\n",
      "20\n",
      "32\n",
      "40\n",
      "64\n",
      "80\n",
      "160\n",
      "320\n"
     ]
    }
   ],
   "source": [
    "#20.\tWrite a program in Python to print Factors of a Number.\n",
    "def print_factors(x):\n",
    "   print(\"The factors of\",x,\"are:\")\n",
    "   for i in range(1, x + 1):\n",
    "       if x % i == 0:\n",
    "           print(i)\n",
    "num = 320\n",
    "print_factors(num)"
   ]
  },
  {
   "cell_type": "code",
   "execution_count": 31,
   "id": "aa921701-aef4-461b-b047-1a99b4661c5e",
   "metadata": {},
   "outputs": [
    {
     "name": "stdout",
     "output_type": "stream",
     "text": [
      "Reversed Number: 654321\n"
     ]
    }
   ],
   "source": [
    "#21.\tWrite a program in Python to print Reverse of a Number.\n",
    "num =123456\n",
    "reversed_num = 0\n",
    "while num != 0:\n",
    "    digit = num % 10\n",
    "    reversed_num = reversed_num * 10 + digit\n",
    "    num //= 10\n",
    "print(\"Reversed Number: \" + str(reversed_num))"
   ]
  },
  {
   "cell_type": "code",
   "execution_count": 32,
   "id": "ef672f15-d813-4dab-8e1a-10413d946ec5",
   "metadata": {},
   "outputs": [
    {
     "name": "stdout",
     "output_type": "stream",
     "text": [
      "The factorial of 6 is 720\n"
     ]
    }
   ],
   "source": [
    "#22.\tWrite a Python program to find Factorial of a given number.\n",
    "num = 6\n",
    "factorial = 1\n",
    "for i in range(1, num + 1):\n",
    "    factorial *= i\n",
    "print(f\"The factorial of {num} is {factorial}\")"
   ]
  },
  {
   "cell_type": "code",
   "execution_count": 33,
   "id": "35b3961b-80dc-415d-b2f8-0b5b5afffa47",
   "metadata": {},
   "outputs": [
    {
     "name": "stdout",
     "output_type": "stream",
     "text": [
      "Palindrome\n"
     ]
    }
   ],
   "source": [
    "#23.\tWrite a Python program to check a number is palindrome or not.\n",
    "num = 121\n",
    "temp = num\n",
    "reverse = 0\n",
    "while temp > 0:\n",
    "    remainder = temp % 10\n",
    "    reverse = (reverse * 10) + remainder\n",
    "    temp = temp // 10\n",
    "if num == reverse:\n",
    "  print('Palindrome')\n",
    "else:\n",
    "  print(\"Not Palindrome\")"
   ]
  },
  {
   "cell_type": "code",
   "execution_count": 34,
   "id": "3badfff5-2d43-4a5a-b897-415874dd44f0",
   "metadata": {},
   "outputs": [
    {
     "name": "stdout",
     "output_type": "stream",
     "text": [
      "11 is a prime number\n"
     ]
    }
   ],
   "source": [
    "#24.\tWrite a Python program to check a number is prime or not.\n",
    "num = 11\n",
    "if num > 1:\n",
    "    for i in range(2, (num//2)+1):\n",
    "        if (num % i) == 0:\n",
    "            print(num, \"is not a prime number\")\n",
    "            break\n",
    "    else:\n",
    "        print(num, \"is a prime number\")\n",
    "else:\n",
    "    print(num, \"is not a prime number\")"
   ]
  },
  {
   "cell_type": "code",
   "execution_count": 35,
   "id": "8f7b0a18-e6ce-4f03-8e7d-65bfed7b2f73",
   "metadata": {},
   "outputs": [
    {
     "name": "stdout",
     "output_type": "stream",
     "text": [
      "Enter a number:  25\n"
     ]
    },
    {
     "name": "stdout",
     "output_type": "stream",
     "text": [
      "25 is not an Armstrong number\n"
     ]
    }
   ],
   "source": [
    "#25.\tWrite a Python program to check a number is Armstrong or not.\n",
    "num = int(input(\"Enter a number: \"))\n",
    "sum = 0\n",
    "temp = num\n",
    "while temp > 0:\n",
    "   digit = temp % 10\n",
    "   sum += digit ** 3\n",
    "   temp //= 10\n",
    "if num == sum:\n",
    "   print(num,\"is an Armstrong number\")\n",
    "else:\n",
    "   print(num,\"is not an Armstrong number\")"
   ]
  },
  {
   "cell_type": "code",
   "execution_count": 36,
   "id": "0eb09f81-9310-4dd2-b211-fca5cbb6ccf8",
   "metadata": {},
   "outputs": [
    {
     "name": "stdout",
     "output_type": "stream",
     "text": [
      "34\n"
     ]
    }
   ],
   "source": [
    "#26.\tWrite a Python program to print Fibonacci series of n term\n",
    "def Fibonacci(n):\n",
    "\tif n<= 0:\n",
    "\t\tprint(\"Incorrect input\")\n",
    "\telif n == 1:\n",
    "\t\treturn 0\n",
    "\telif n == 2:\n",
    "\t\treturn 1\n",
    "\telse:\n",
    "\t\treturn Fibonacci(n-1)+Fibonacci(n-2)\n",
    "print(Fibonacci(10))"
   ]
  },
  {
   "cell_type": "code",
   "execution_count": 37,
   "id": "45c277bf-ef00-4171-b3db-7dbf44c32294",
   "metadata": {},
   "outputs": [
    {
     "name": "stdout",
     "output_type": "stream",
     "text": [
      "15 x 1 = 15\n",
      "15 x 2 = 30\n",
      "15 x 3 = 45\n",
      "15 x 4 = 60\n",
      "15 x 5 = 75\n",
      "15 x 6 = 90\n",
      "15 x 7 = 105\n",
      "15 x 8 = 120\n",
      "15 x 9 = 135\n",
      "15 x 10 = 150\n"
     ]
    }
   ],
   "source": [
    "#27.\tWrite a Python program to implement multiplication table.\n",
    "num = 15\n",
    "for i in range(1, 11):\n",
    "   print(num, 'x', i, '=', num*i)"
   ]
  },
  {
   "cell_type": "code",
   "execution_count": 38,
   "id": "53c847cd-6761-42ba-a476-c6ed97e9216f",
   "metadata": {},
   "outputs": [
    {
     "name": "stdout",
     "output_type": "stream",
     "text": [
      "Enter number of elements :  2\n",
      " 25\n",
      " 35\n"
     ]
    },
    {
     "name": "stdout",
     "output_type": "stream",
     "text": [
      "[25, 35]\n"
     ]
    }
   ],
   "source": [
    "#28.\tWrite a Python program to take a input from user in a list and print it.\n",
    "lst = []\n",
    "n = int(input(\"Enter number of elements : \"))\n",
    "for i in range(0, n):\n",
    "\tele = int(input())\n",
    "\tlst.append(ele) \n",
    "print(lst)"
   ]
  },
  {
   "cell_type": "code",
   "execution_count": 41,
   "id": "9bbb1d7c-9e4f-41db-b25e-19ab72527b87",
   "metadata": {},
   "outputs": [
    {
     "name": "stdout",
     "output_type": "stream",
     "text": [
      "Enter the number of elements:  5\n",
      "Enter number 1:  22\n",
      "Enter number 2:  23\n",
      "Enter number 3:  25\n",
      "Enter number 4:  21\n",
      "Enter number 5:  20\n"
     ]
    },
    {
     "ename": "TypeError",
     "evalue": "'int' object is not callable",
     "output_type": "error",
     "traceback": [
      "\u001b[1;31m---------------------------------------------------------------------------\u001b[0m",
      "\u001b[1;31mTypeError\u001b[0m                                 Traceback (most recent call last)",
      "Cell \u001b[1;32mIn[41], line 7\u001b[0m\n\u001b[0;32m      5\u001b[0m     num \u001b[38;5;241m=\u001b[39m \u001b[38;5;28mfloat\u001b[39m(\u001b[38;5;28minput\u001b[39m(\u001b[38;5;124mf\u001b[39m\u001b[38;5;124m\"\u001b[39m\u001b[38;5;124mEnter number \u001b[39m\u001b[38;5;132;01m{\u001b[39;00mi\u001b[38;5;241m+\u001b[39m\u001b[38;5;241m1\u001b[39m\u001b[38;5;132;01m}\u001b[39;00m\u001b[38;5;124m: \u001b[39m\u001b[38;5;124m\"\u001b[39m))\n\u001b[0;32m      6\u001b[0m     numbers\u001b[38;5;241m.\u001b[39mappend(num)\n\u001b[1;32m----> 7\u001b[0m average \u001b[38;5;241m=\u001b[39m \u001b[38;5;28;43msum\u001b[39;49m\u001b[43m(\u001b[49m\u001b[43mnumbers\u001b[49m\u001b[43m)\u001b[49m \u001b[38;5;241m/\u001b[39m n\n\u001b[0;32m      8\u001b[0m \u001b[38;5;28mprint\u001b[39m(\u001b[38;5;124mf\u001b[39m\u001b[38;5;124m\"\u001b[39m\u001b[38;5;124mThe average of the entered numbers is: \u001b[39m\u001b[38;5;132;01m{\u001b[39;00maverage\u001b[38;5;132;01m}\u001b[39;00m\u001b[38;5;124m\"\u001b[39m)\n",
      "\u001b[1;31mTypeError\u001b[0m: 'int' object is not callable"
     ]
    }
   ],
   "source": [
    "#29.\tWrite a Python program to find the average of n numbers using list.\n",
    "numbers = []\n",
    "n = int(input(\"Enter the number of elements: \"))\n",
    "for i in range(n):\n",
    "    num = float(input(f\"Enter number {i+1}: \"))\n",
    "    numbers.append(num)\n",
    "average = sum(numbers) / n\n",
    "print(f\"The average of the entered numbers is: {average}\")"
   ]
  },
  {
   "cell_type": "code",
   "execution_count": 42,
   "id": "93077892-a0ef-4a10-8c06-8cb54dd55c1c",
   "metadata": {},
   "outputs": [
    {
     "name": "stdout",
     "output_type": "stream",
     "text": [
      "Element found at index:  4\n"
     ]
    }
   ],
   "source": [
    "#31.\tWrite a Python program to perform Linear search.\n",
    "def linearSearch(array, n, x):\n",
    "    for i in range(0, n):\n",
    "        if (array[i] == x):\n",
    "            return i\n",
    "    return -1\n",
    "array = [2, 4, 0, 1, 9]\n",
    "x = 9\n",
    "n = len(array)\n",
    "result = linearSearch(array, n, x)\n",
    "if(result == -1):\n",
    "    print(\"Element not found\")\n",
    "else:\n",
    "    print(\"Element found at index: \", result)"
   ]
  },
  {
   "cell_type": "code",
   "execution_count": 44,
   "id": "74ffb95b-15d4-441b-a0c3-c3f9795122c0",
   "metadata": {},
   "outputs": [
    {
     "name": "stdout",
     "output_type": "stream",
     "text": [
      "Enter your sentences (press Enter without typing to finish input):\n"
     ]
    },
    {
     "name": "stdout",
     "output_type": "stream",
     "text": [
      " HELLO WORLD\n",
      " PRACTICE MAKES PEWRFECT\n",
      " I AM ACHISMITA\n",
      " \n"
     ]
    },
    {
     "name": "stdout",
     "output_type": "stream",
     "text": [
      "\n",
      "Output:\n",
      "HELLO WORLD\n",
      "PRACTICE MAKES PEWRFECT\n",
      "I AM ACHISMITA\n"
     ]
    }
   ],
   "source": [
    "#32.\tWrite a program that accepts sequence of lines as input and prints the lines after making all characters in the sentence capitalized.\n",
    "#Suppose the following input is supplied to the program:\n",
    "#Hello world Practice makes perfectThen, the output should be:HELLO WORLD PRACTICE MAKES PERFECT\n",
    "lines = []\n",
    "print(\"Enter your sentences (press Enter without typing to finish input):\")\n",
    "while True:\n",
    "    line = input()\n",
    "    if line: \n",
    "        lines.append(line)\n",
    "    else:\n",
    "        break \n",
    "print(\"\\nOutput:\")\n",
    "for line in lines:\n",
    "    print(line.upper())"
   ]
  },
  {
   "cell_type": "code",
   "execution_count": 45,
   "id": "75edd6b9-0a78-4e02-840a-cbaa18524993",
   "metadata": {},
   "outputs": [
    {
     "name": "stdout",
     "output_type": "stream",
     "text": [
      "Enter comma-separated numbers:  37, 38,40\n"
     ]
    },
    {
     "name": "stdout",
     "output_type": "stream",
     "text": [
      "List: ['37', ' 38', '40']\n",
      "Tuple: ('37', ' 38', '40')\n"
     ]
    }
   ],
   "source": [
    "#33.\tWrite a program which accepts a sequence of comma‐separated numbers from console and generate a list and a tuple which contains every number.\n",
    "input_data = input(\"Enter comma-separated numbers: \")\n",
    "numbers_list = input_data.split(\",\")\n",
    "numbers_tuple = tuple(numbers_list)\n",
    "print(\"List:\", numbers_list)\n",
    "print(\"Tuple:\", numbers_tuple)"
   ]
  },
  {
   "cell_type": "code",
   "execution_count": null,
   "id": "f8aa70d8-f13d-4c9a-885b-4e3a21b201de",
   "metadata": {},
   "outputs": [],
   "source": [
    "#34.\tWrite a program that computes the net amount of a bank account based a transaction log from console input.\n",
    "net_amount = 0\n",
    "while True:\n",
    "    transaction = input()\n",
    "    if not transaction:\n",
    "        break\n",
    "    transaction_type, amount = transaction.split()\n",
    "    amount = int(amount)\n",
    "    if transaction_type == 'D':\n",
    "        net_amount += amount\n",
    "    elif transaction_type == 'W':\n",
    "        net_amount -= amount\n",
    "\n",
    "print(f\"Net amount: {net_amount}\")"
   ]
  },
  {
   "cell_type": "code",
   "execution_count": null,
   "id": "d64c6458-2800-441c-b08c-6159c6c5edc8",
   "metadata": {},
   "outputs": [],
   "source": []
  }
 ],
 "metadata": {
  "kernelspec": {
   "display_name": "Python 3 (ipykernel)",
   "language": "python",
   "name": "python3"
  },
  "language_info": {
   "codemirror_mode": {
    "name": "ipython",
    "version": 3
   },
   "file_extension": ".py",
   "mimetype": "text/x-python",
   "name": "python",
   "nbconvert_exporter": "python",
   "pygments_lexer": "ipython3",
   "version": "3.12.5"
  }
 },
 "nbformat": 4,
 "nbformat_minor": 5
}
